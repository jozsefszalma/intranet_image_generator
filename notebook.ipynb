{
 "cells": [
  {
   "cell_type": "code",
   "execution_count": null,
   "metadata": {},
   "outputs": [],
   "source": [
    "import os\n",
    "import uuid\n",
    "from flask import Flask, request, send_from_directory\n",
    "from flask_restful import Api, Resource\n",
    "\n",
    "from huggingface_hub import login\n",
    "from diffusers import StableDiffusionPipeline\n",
    "from diffusers.pipelines.stable_diffusion import StableDiffusionSafetyChecker\n",
    "from transformers import CLIPFeatureExtractor\n",
    "\n",
    "import torch\n",
    "\n",
    "#huggingface key\n",
    "hf_key = os.getenv(\"HF_KEY\")\n",
    "\n",
    "#output directory\n",
    "image_dir = os.getenv(\"IMG_DIR_WIN\") \n",
    "\n",
    "#optional, if you want to prefix or suffix the prompt with anything (e.g. cartoonish, kids friendly)\n",
    "prompt_prefix = os.getenv(\"PROMPT_PREFIX\", \"\")\n",
    "prompt_suffix = os.getenv(\"PROMPT_SUFFIX\", \"\")\n",
    "\n",
    "#optional, can be used for parental controls (e.g. add \"scary\" to prevent convergence on scary images, et cetera)\n",
    "negative_prompt = os.getenv(\"NEGATIVE_PROMPT\",\"\")\n",
    "\n",
    "login(token=hf_key,add_to_git_credential=True)\n",
    "\n",
    "#Hugging Face model ID, using SD 2.1 if not defined in env\n",
    "model_id = os.getenv(\"MODEL_ID\",\"stabilityai/stable-diffusion-2-1\") \n",
    "\n"
   ]
  },
  {
   "cell_type": "code",
   "execution_count": null,
   "metadata": {},
   "outputs": [],
   "source": [
    "if model_id == \"stabilityai/stable-diffusion-2-1\":\n",
    "    #SD 2.1 does not have the safety checker by default\n",
    "    pipe = StableDiffusionPipeline.from_pretrained(model_id, use_auth_token=True, \n",
    "                                                        safety_checker=StableDiffusionSafetyChecker.from_pretrained(\"CompVis/stable-diffusion-safety-checker\",torch_dtype=torch.float16),\n",
    "                                                        feature_extractor=CLIPFeatureExtractor.from_pretrained(\"openai/clip-vit-base-patch32\",torch_dtype=torch.float16),\n",
    "                                                        torch_dtype=torch.float16)\n",
    "\n",
    "\n",
    "else:\n",
    "    pipe = StableDiffusionPipeline.from_pretrained(model_id, use_auth_token=True, \n",
    "                                                    torch_dtype=torch.float16)\n",
    "\n",
    "pipe = pipe.to(\"cuda\")"
   ]
  },
  {
   "cell_type": "code",
   "execution_count": null,
   "metadata": {},
   "outputs": [],
   "source": [
    "app = Flask(__name__)\n",
    "api = Api(app)\n",
    "\n",
    "#image generator api, generates the image and returns a GUID that acts as key for image retrieval \n",
    "class ImageGeneration(Resource):\n",
    "    def post(self):\n",
    "        data = request.get_json()\n",
    "        prompt = data['prompt']\n",
    "        image_id = str(uuid.uuid4())\n",
    "\n",
    "        result = pipe(prompt = prompt_prefix + \" \" + prompt + \" \" + prompt_suffix,\n",
    "                      negative_prompt = negative_prompt)\n",
    "\n",
    "        nsfw_loop_count = 0\n",
    "        while result.nsfw_content_detected[0]:\n",
    "            result = pipe(prompt = prompt_prefix + \" \" + prompt + \" \" + prompt_suffix,\n",
    "                      negative_prompt = negative_prompt)\n",
    "            nsfw_loop_count += 1\n",
    "            if nsfw_loop_count > 10 : \n",
    "                result = pipe(prompt = \"\",\n",
    "                      negative_prompt = negative_prompt)\n",
    "                break\n",
    "            \n",
    "            \n",
    "        image = result.images[0]\n",
    "        image.save(os.path.join(image_dir, f\"{image_id}.png\"))\n",
    "        \n",
    "        print(\"nsfw? \", result.nsfw_content_detected[0])\n",
    "        print(\"prompt: \", prompt)\n",
    "        print(\"image id: \", image_id)\n",
    "       \n",
    "        return {'guid': image_id}\n",
    "\n",
    "#image retrieval api, serves the image that matches the GUID provided\n",
    "class ImageRetrieval(Resource):\n",
    "    def get(self):\n",
    "        image_id = request.args.get('guid')\n",
    "        print(image_id)\n",
    "        return send_from_directory(image_dir, f\"{image_id}.png\")\n",
    "\n",
    "api.add_resource(ImageGeneration, '/generate/')\n",
    "api.add_resource(ImageRetrieval, '/image/')\n",
    "\n",
    "\n"
   ]
  },
  {
   "cell_type": "code",
   "execution_count": null,
   "metadata": {},
   "outputs": [],
   "source": [
    "app.run(debug=True, use_reloader=False, host='0.0.0.0')"
   ]
  },
  {
   "cell_type": "code",
   "execution_count": null,
   "metadata": {},
   "outputs": [],
   "source": []
  }
 ],
 "metadata": {
  "kernelspec": {
   "display_name": "local-sd-server",
   "language": "python",
   "name": "python3"
  },
  "language_info": {
   "codemirror_mode": {
    "name": "ipython",
    "version": 3
   },
   "file_extension": ".py",
   "mimetype": "text/x-python",
   "name": "python",
   "nbconvert_exporter": "python",
   "pygments_lexer": "ipython3",
   "version": "3.9.16"
  },
  "orig_nbformat": 4
 },
 "nbformat": 4,
 "nbformat_minor": 2
}
